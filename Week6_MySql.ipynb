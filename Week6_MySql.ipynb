{
 "cells": [
  {
   "cell_type": "markdown",
   "id": "db7eadbd-1c3b-4841-93e4-50e34cb557b3",
   "metadata": {},
   "source": [
    "# Week 6 MySql Assignment"
   ]
  },
  {
   "cell_type": "markdown",
   "id": "c49fe199-268a-4035-824d-28684e12cb87",
   "metadata": {},
   "source": [
    "## Q1. What is a database? Differentiate between SQL and NoSQL databases."
   ]
  },
  {
   "cell_type": "markdown",
   "id": "ab1d374c-eee9-4940-8a7d-21ac6ba5fe57",
   "metadata": {},
   "source": [
    "A database is an organised collection of data stored in computer system so that it can be accessed, managed and manipulated easily.\n",
    "\n",
    "SQL (Structured Query Language) databases are relational databases. They store data in the form of tables, made up of rows and columns. SQL language is used to interact with relational database. MySQL is one of the SQL databases.\n",
    "\n",
    "NoSQL (Not Only SQL) databases are non relational databases. They do not store data in the form of tables. They store data in the form of key-value pairs, documents, graphs, etc. NoSQL are uesd to store large amount of unstructured data."
   ]
  },
  {
   "cell_type": "markdown",
   "id": "23fff271-f623-4791-9b86-3b34e3066205",
   "metadata": {},
   "source": [
    "## Q2. What is DDL? Explain why CREATE, DROP, ALTER, and TRUNCATE are used with an example."
   ]
  },
  {
   "cell_type": "markdown",
   "id": "1e6f1143-a52c-4ef1-8de8-8486704282fc",
   "metadata": {},
   "source": [
    "DDL stands for Data Definition Language. It is set of commands that are used to define the structure of database. DDL commands are used to create, alter, and drop database objects"
   ]
  },
  {
   "cell_type": "markdown",
   "id": "c915a3b4-b84f-4fc7-9593-e1dd3ef47b2b",
   "metadata": {},
   "source": [
    "### CREATE\n",
    "Create is used to create new database objects such datbase, tables, indexes"
   ]
  },
  {
   "cell_type": "code",
   "execution_count": null,
   "id": "cd39cd7c-9bcf-42d7-9c4e-88fbcbd6d04d",
   "metadata": {},
   "outputs": [],
   "source": [
    "CREATE DATABASE if not exists test;"
   ]
  },
  {
   "cell_type": "markdown",
   "id": "fa598501-c3d1-4beb-aca8-a16f1ff63914",
   "metadata": {},
   "source": [
    "### DROP\n",
    "DROP command is used to delete a databse object"
   ]
  },
  {
   "cell_type": "code",
   "execution_count": null,
   "id": "3cf456f6-9c78-46a7-98c6-81038f32cb0d",
   "metadata": {},
   "outputs": [],
   "source": [
    "DROP TABLE test_table;"
   ]
  },
  {
   "cell_type": "markdown",
   "id": "109d0077-3562-48aa-b0d5-fced98deb125",
   "metadata": {},
   "source": [
    "### ALTER\n",
    "ALTER command is used to modify the database objects, like changing name of column or changing its datatype or data limit or adding new column to table"
   ]
  },
  {
   "cell_type": "code",
   "execution_count": null,
   "id": "df0901ee-9664-401e-8108-a8a874e9edc7",
   "metadata": {},
   "outputs": [],
   "source": [
    "ALTER TABLE test_table ADD Address varchar(50)"
   ]
  },
  {
   "cell_type": "markdown",
   "id": "606bcba5-de23-43f3-82db-6ab91cc5a678",
   "metadata": {},
   "source": [
    "### TRUNCATE\n",
    "TRUNCATE command is used to delete all rows from the table but not the table."
   ]
  },
  {
   "cell_type": "code",
   "execution_count": null,
   "id": "cd7bc7fc-1738-4c22-918f-6d6f0cb4db80",
   "metadata": {},
   "outputs": [],
   "source": [
    "TRUNCATE TABLE test_table;"
   ]
  },
  {
   "cell_type": "markdown",
   "id": "05328613-4b98-40a6-ae49-0ee7a74799df",
   "metadata": {},
   "source": [
    "## Q3. What is DML? Explain INSERT, UPDATE, and DELETE with an example."
   ]
  },
  {
   "cell_type": "markdown",
   "id": "f72f42f5-8f1a-4d39-9271-ad3c92b42b7d",
   "metadata": {},
   "source": [
    "DML stand for Data Manipulation Language. DML commands are used to manipulate the data in database. DML commands are used to insert, retrieve, update and delete rows from tables"
   ]
  },
  {
   "cell_type": "markdown",
   "id": "e84fcb42-0654-4ce4-ba55-26281a8f682f",
   "metadata": {},
   "source": [
    "### INSERT\n",
    "INSERT command is used to insert new rows or data into the tables"
   ]
  },
  {
   "cell_type": "code",
   "execution_count": null,
   "id": "b19b165a-957e-4534-acda-88af75da58e6",
   "metadata": {},
   "outputs": [],
   "source": [
    "INSERT into test_table(ID, name) values(2,\"maninder\");"
   ]
  },
  {
   "cell_type": "markdown",
   "id": "0fd83bc8-e99c-46b7-aa6d-e901575afad6",
   "metadata": {},
   "source": [
    "### UPDATE\n",
    "UPDATE command is used to update the existing row or data in table"
   ]
  },
  {
   "cell_type": "code",
   "execution_count": null,
   "id": "122af5f7-1bb3-4a70-ae98-9561f4354ee9",
   "metadata": {
    "tags": []
   },
   "outputs": [],
   "source": [
    "UPDATE test_table SET name = \"Maninder Singh\" where ID = 2;"
   ]
  },
  {
   "cell_type": "markdown",
   "id": "8d3cbd25-4959-415b-890e-8a2058dc5692",
   "metadata": {},
   "source": [
    "### DELETE\n",
    "DELTE command is used to rows or table from data"
   ]
  },
  {
   "cell_type": "code",
   "execution_count": null,
   "id": "a379469d-f1ee-4dbf-8504-0c13fe74a688",
   "metadata": {},
   "outputs": [],
   "source": [
    "DELETE FROM test_table where ID = 2"
   ]
  },
  {
   "cell_type": "markdown",
   "id": "63477a0c-4bc9-418e-b83d-2ddd8f369ed5",
   "metadata": {},
   "source": [
    "## Q4. What is DQL? Explain SELECT with an example."
   ]
  },
  {
   "cell_type": "markdown",
   "id": "607e853d-efed-4e0f-8783-1ef248d999aa",
   "metadata": {},
   "source": [
    "DQL stands for Data Query Language. It is set of commands that are used to retrieve data from database. DQL commands are select, filter, order"
   ]
  },
  {
   "cell_type": "markdown",
   "id": "3e9cc3be-72af-443b-b80a-89337cea7d04",
   "metadata": {},
   "source": [
    "### SELECT\n",
    "SELECT command is used to select data from the table."
   ]
  },
  {
   "cell_type": "code",
   "execution_count": null,
   "id": "6a905a7a-c8c1-4f3c-9038-041071e99c4b",
   "metadata": {},
   "outputs": [],
   "source": [
    "SELECT * from test_table"
   ]
  },
  {
   "cell_type": "markdown",
   "id": "424e3b05-1f45-476a-892c-d1963f5a482d",
   "metadata": {},
   "source": [
    "## Q5. Explain Primary Key and Foreign Key."
   ]
  },
  {
   "cell_type": "markdown",
   "id": "c456198d-9634-4c01-a763-51fce97fa6f1",
   "metadata": {},
   "source": [
    "### Primary Key\n",
    "Primary Key is a column or group of columns that uniquely identifies the data or rows in a table. A Primary Key cannot contain a NULL value\n",
    "\n",
    "For example, in test_table ID can be used as primary key. This will ensure that each person will have unique ID"
   ]
  },
  {
   "cell_type": "markdown",
   "id": "e067df77-bfe1-4d5e-b65e-1d1ca8084e63",
   "metadata": {},
   "source": [
    "### Foreign Key\n",
    "Foreign Key is a column or group of columns that references a primary key of another table. Foreign Key can contain NULL value\n",
    "\n",
    "For Example, the \"student_id\" in bio_data table can be a reference key to \"ID\" in test_table"
   ]
  },
  {
   "cell_type": "markdown",
   "id": "843af518-cd22-4759-abe8-a2573b38d558",
   "metadata": {},
   "source": [
    "## Q6. Write a python code to connect MySQL to python. Explain the cursor() and execute() method."
   ]
  },
  {
   "cell_type": "code",
   "execution_count": null,
   "id": "240eee9b-c0ae-4c28-8924-5319e643dd20",
   "metadata": {},
   "outputs": [],
   "source": [
    "import mysql-connector as sql\n",
    "\n",
    "conn = sql.connect(host = \"localhost\", user = \"abc\", passwd = \"password\")\n",
    "cur = conn.cursor()\n",
    "cur.exute(\"Select * from test_table\")\n",
    "for i in cur.fetchall:\n",
    "    print(i)\n",
    "conn.close()"
   ]
  },
  {
   "cell_type": "markdown",
   "id": "960f374a-a50b-41fd-bcbf-aefc82f9763b",
   "metadata": {},
   "source": [
    "### cursor()\n",
    "The cursor() method is used to execute SQL queries. The cursor object allows to interact with database and excute sql queries and fetch results"
   ]
  },
  {
   "cell_type": "markdown",
   "id": "2d99e491-40d4-4e4b-9c56-1627710a8766",
   "metadata": {},
   "source": [
    "### execute()\n",
    "execute() command is used to execute SQL query on database. It takes SQL query as parameter and run it in database"
   ]
  },
  {
   "cell_type": "markdown",
   "id": "34dfde10-ffd0-4eba-bd61-09dd70e41cba",
   "metadata": {},
   "source": [
    "## Q7. Give the order of execution of SQL clauses in an SQL query."
   ]
  },
  {
   "cell_type": "markdown",
   "id": "bdaf7f0d-ed38-469c-b17a-2ca958a7a81d",
   "metadata": {},
   "source": [
    "#### In an SQL query, SQL clauses are executed in the following order:\n",
    "\n",
    "FROM: This clause specifies the table or tables from which the data is retrieved.\n",
    "\n",
    "JOIN: This clause joins two or more tables together based on a common field.\n",
    "\n",
    "WHERE: This clause filters the data based on one or more conditions.\n",
    "\n",
    "GROUP BY: This clause groups the data based on one or more columns.\n",
    "\n",
    "HAVING: This clause filters the grouped data based on one or more conditions.\n",
    "\n",
    "SELECT: This clause selects the columns included in the query results.\n",
    "\n",
    "DISTINCT: This clause removes duplicates from query results.\n",
    "\n",
    "ORDER BY: This clause sorts query results based on one or more columns.\n",
    "\n",
    "LIMIT: This clause limits the number of rows returned by the query."
   ]
  },
  {
   "cell_type": "code",
   "execution_count": null,
   "id": "7f7b2565-52cc-4661-8984-b413a0360d74",
   "metadata": {},
   "outputs": [],
   "source": []
  }
 ],
 "metadata": {
  "kernelspec": {
   "display_name": "Python 3 (ipykernel)",
   "language": "python",
   "name": "python3"
  },
  "language_info": {
   "codemirror_mode": {
    "name": "ipython",
    "version": 3
   },
   "file_extension": ".py",
   "mimetype": "text/x-python",
   "name": "python",
   "nbconvert_exporter": "python",
   "pygments_lexer": "ipython3",
   "version": "3.10.8"
  }
 },
 "nbformat": 4,
 "nbformat_minor": 5
}
