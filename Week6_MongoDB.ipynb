{
 "cells": [
  {
   "cell_type": "markdown",
   "id": "ad23ced1-cd1f-4bca-8b00-3ada5c075fa0",
   "metadata": {},
   "source": [
    "# Week 6 MongoDB Assignment"
   ]
  },
  {
   "cell_type": "markdown",
   "id": "3595a40a-36e2-4151-9d4f-ef42c9267065",
   "metadata": {
    "tags": []
   },
   "source": [
    "## Q1. What is MongoDB? Explain non-relational databases in short. In which scenarios it is preferred to use  MongoDB over SQL databases?"
   ]
  },
  {
   "cell_type": "markdown",
   "id": "62d028e2-dac4-4061-984c-f46396c69df7",
   "metadata": {},
   "source": [
    "MongoDB is a NoSQL based Database. NoSQL means Not Only SQL. NoSQL databases are the databases that do not follow traditional relational database model. They do not store data in the form of tables, with each row in table representing record. MongoDB follow non-relational database system. Non-relational database store data in variety of ways, including documents , key-value pairs and graphs.\n",
    "\n",
    "MongoDB is preferred to use ove SQL databases in scenarios where data is unstructured. MongoDB is preferred in scenarios where data does not hace predefined schema. It preferred over SQL databases when the data is very large and it need be scaled quickly."
   ]
  },
  {
   "cell_type": "markdown",
   "id": "238c7309-b8a8-4bec-b5c8-bc167cdae08a",
   "metadata": {},
   "source": [
    "## Q2. State and Explain the features of MongoDB."
   ]
  },
  {
   "cell_type": "markdown",
   "id": "1d67de76-3c70-41f9-a57e-010409c9cc85",
   "metadata": {},
   "source": [
    "Feature of MongoDB:\n",
    "+ Schema-less Design: MongoDB doesnt need fixed schema to store data. so we can store any type of data in same collection.\n",
    "\n",
    "+ Document Oriented :  Data in MongoDB is store in form of documents which are JSON-like objects that can have nested arrays and subdocuments.\n",
    "\n",
    "+ Scalability :  MongoDB is designed to scale horizontally, which mans we can distribute data on various servers to handle increase loads. This makes it suitable for handling large scale applications and big data.\n",
    "\n",
    "+ Replication :  It supports data replication which ensures high availability and data durability.\n",
    "\n",
    "+ Rich Query Language : MongoDB's query language is powerful, supporting wide range of operations and manipulations"
   ]
  },
  {
   "cell_type": "markdown",
   "id": "cd6031e0-da56-493b-a30f-fde484203470",
   "metadata": {},
   "source": [
    "## Q3. Write a code to connect MongoDB to Python. Also, create a database and a collection in MongoDB."
   ]
  },
  {
   "cell_type": "code",
   "execution_count": null,
   "id": "8f267a3b-eabd-4ba1-a5df-8ec5bbefc79e",
   "metadata": {},
   "outputs": [],
   "source": [
    "import pymongo\n",
    "\n",
    "client = pymongo.MongoClient(\"url_to_database\")\n",
    "db = client[\"database\"]\n",
    "col = db[\"customers\"]\n",
    "\n",
    "data = {\"name\":\"Maninder Singh\", \"course\" : \"B. Tech\"}\n",
    "col.insert_one(data)"
   ]
  },
  {
   "cell_type": "markdown",
   "id": "9fd17f79-c9f4-4322-833d-5d7e62e2c90e",
   "metadata": {},
   "source": [
    "## Q4. Using the database and the collection created in question number 3, write a code to insert one record, and insert many records. Use the find() and find_one() methods to print the inserted record."
   ]
  },
  {
   "cell_type": "code",
   "execution_count": null,
   "id": "61383d00-392b-464b-aa2d-09b4e73c4dc0",
   "metadata": {},
   "outputs": [],
   "source": [
    "# Inserting one record\n",
    "data = {'name' : 'Maninder','mobile':7988170718}\n",
    "col.insert_one(data)\n",
    "print('Inserted record')\n",
    "\n",
    "#Inserting many\n",
    "data1 = [{'name' : 'Maninder','mobile':7988170718},\n",
    "         {'name' : 'Vikrant','mobile':7844547238},\n",
    "         {'name' : 'Aman','mobile':7856431209}\n",
    "        ]\n",
    "\n",
    "col.inser_many(data1)\n",
    "print('data inserted')\n",
    "\n",
    "# Finding record with -  find()\n",
    "records = col.find()\n",
    "for record in records:\n",
    "    print(record)\n",
    "    \n",
    "# Finding record with - find_one()\n",
    "record = col.find_one({'name' : 'Jack'})\n",
    "print(record)"
   ]
  },
  {
   "cell_type": "markdown",
   "id": "69049393-6203-4d05-b606-4bd5b35a8aec",
   "metadata": {},
   "source": [
    "## Q5. Explain how you can use the find() method to query the MongoDB database. Write a simple code to demonstrate this."
   ]
  },
  {
   "cell_type": "markdown",
   "id": "e54929dc-5a75-46de-8c2e-40ccdbc93b89",
   "metadata": {},
   "source": [
    "In MongoDB, find() method can be used to query a collection of documents that matches that specified query. It can iterate over to get the individual documents from matching documents."
   ]
  },
  {
   "cell_type": "code",
   "execution_count": null,
   "id": "3c6b03db-0bec-430f-a1f6-86e7c6b2c50a",
   "metadata": {},
   "outputs": [],
   "source": [
    "import pymongo\n",
    "\n",
    "client = pymongo.MongoClient('MongoDB_url')\n",
    "\n",
    "db = client['database']\n",
    "col = db['customers']\n",
    "\n",
    "records = collection.find({'age':{'$gt' : 18}})\n",
    "for record in records:\n",
    "    print(record)"
   ]
  },
  {
   "cell_type": "markdown",
   "id": "84010dc9-5b1d-4165-89d4-5ef4ed1540ca",
   "metadata": {},
   "source": [
    "Here we queried the collection  for documents where age is greater than 18 and printed the matching documents"
   ]
  },
  {
   "cell_type": "markdown",
   "id": "12b7c411-2c4c-4538-a5d3-1ab6e66a9841",
   "metadata": {},
   "source": [
    "## Q6. Explain the sort() method. Give an example to demonstrate sorting in MongoDB.\n"
   ]
  },
  {
   "cell_type": "markdown",
   "id": "c0a0a5d5-588f-4446-924a-0cdf2468f966",
   "metadata": {},
   "source": [
    "The sort() method is used to sort results of query in specified order. It takes one parameter, which is an object that defines sorting criteria."
   ]
  },
  {
   "cell_type": "code",
   "execution_count": null,
   "id": "3a3eea5d-4fc4-4c6b-9ba4-a91046e492f5",
   "metadata": {},
   "outputs": [],
   "source": [
    "import pymongo\n",
    "\n",
    "client = pymongo.MongoClient('MongoDB_url')\n",
    "\n",
    "db = client['database']\n",
    "col = db['customers']\n",
    "records = col.find().sort('age',1)\n",
    "for record in records:\n",
    "    print(record)"
   ]
  },
  {
   "cell_type": "markdown",
   "id": "afd851ac-cd58-4d80-a3a7-3bf89397aaa8",
   "metadata": {},
   "source": [
    "## Q7. Explain why delete_one(), delete_many(), and drop() is used."
   ]
  },
  {
   "cell_type": "markdown",
   "id": "48bdfcb1-0a01-43d4-b030-b51b465ac304",
   "metadata": {},
   "source": [
    "In MongoDB, `delete_one()` , `delete_many()` and `drop()` are used to manage and remove data from database."
   ]
  },
  {
   "cell_type": "markdown",
   "id": "5dd8100b-1daf-4f41-b5da-45f0d662d764",
   "metadata": {},
   "source": [
    "# `delete_one()` : \n",
    "`delete_one()` method is used to delete a single document from a collection that matches specified filter. If there are multiple documents , only the first one will be deleted."
   ]
  },
  {
   "cell_type": "markdown",
   "id": "d95706c8-a827-48a3-b911-3bf4e27343a2",
   "metadata": {},
   "source": [
    "# `delete_many()`: "
   ]
  },
  {
   "cell_type": "markdown",
   "id": "2c5770db-044d-41e0-9400-54c61a82547e",
   "metadata": {},
   "source": [
    "`delete_many()` method is used to delete mulitple documents from a collection that match a specified filter. It deletes all the documents that satifies the filter conditions"
   ]
  },
  {
   "cell_type": "markdown",
   "id": "d712fade-d4dc-4e10-ae17-5445e4ff2de1",
   "metadata": {},
   "source": [
    "# `drop()`"
   ]
  },
  {
   "cell_type": "markdown",
   "id": "79c96848-e6d8-4979-b82f-0204145a8c11",
   "metadata": {},
   "source": [
    "`drop()` method is used to delete an entire collection from the database. It permanenlty removes the collection and all its data or documents"
   ]
  },
  {
   "cell_type": "code",
   "execution_count": null,
   "id": "6ccbfbe5-82e3-4360-8479-0d82323276e8",
   "metadata": {},
   "outputs": [],
   "source": []
  }
 ],
 "metadata": {
  "kernelspec": {
   "display_name": "Python 3 (ipykernel)",
   "language": "python",
   "name": "python3"
  },
  "language_info": {
   "codemirror_mode": {
    "name": "ipython",
    "version": 3
   },
   "file_extension": ".py",
   "mimetype": "text/x-python",
   "name": "python",
   "nbconvert_exporter": "python",
   "pygments_lexer": "ipython3",
   "version": "3.10.8"
  }
 },
 "nbformat": 4,
 "nbformat_minor": 5
}
