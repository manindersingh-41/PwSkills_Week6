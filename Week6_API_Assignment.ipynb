{
 "cells": [
  {
   "cell_type": "markdown",
   "id": "447e79f4-b1c7-4a5b-812c-d39231291492",
   "metadata": {},
   "source": [
    "# Week 9 API Assignment"
   ]
  },
  {
   "cell_type": "markdown",
   "id": "42f3db50-cb1e-41b1-8454-9626e6d97659",
   "metadata": {},
   "source": [
    "## Q1. What is an API? Give an example, where an API is used in real life."
   ]
  },
  {
   "cell_type": "markdown",
   "id": "4812a76a-ffab-4e3f-bada-d1f19cebdfff",
   "metadata": {},
   "source": [
    "An API - Application Programming Interface, is a set of rules that defines how different applications or programs talk to each other. APIs are used to share data and functionality between different software applications\n",
    "\n",
    "API is used in many scenarios:\n",
    "+ When we use weather app on phone, th app is using an API to get the current weather data from a weather service\n",
    "\n",
    "+ When we book ride with uber, the uber app uses API t communicate with Uber's servers to request ride\n",
    "\n",
    "+ When we are on some website and we see a button to share that content on social media platforms like FB, Twitter, Instagram. When we click on 'Share on Facebook' button. the website uses Facebook API to request Facebook's servers"
   ]
  },
  {
   "cell_type": "markdown",
   "id": "74201dca-ebc8-4775-828d-08de81040b0c",
   "metadata": {},
   "source": [
    "## Q2. Give advantages and disadvantages of using API."
   ]
  },
  {
   "cell_type": "markdown",
   "id": "fa8ab002-c2c7-4bbe-89a7-6688c0edd2ca",
   "metadata": {},
   "source": [
    "### Advantages of API"
   ]
  },
  {
   "cell_type": "markdown",
   "id": "7981b42b-3788-44dd-9c94-e22f62c7a1cf",
   "metadata": {},
   "source": [
    "#### Modular Development :\n",
    "APIs allow developers to build software in modular way.Developers can leverage existing services and functionalities provided by APIs, saving time and effort"
   ]
  },
  {
   "cell_type": "markdown",
   "id": "8740a975-b127-4ca6-9a4f-0251a9cd147a",
   "metadata": {},
   "source": [
    "#### Faster Development : \n",
    "By using APIs, developers can accelerate the development process since they dont need to create every piece of functionality from scratch."
   ]
  },
  {
   "cell_type": "markdown",
   "id": "651b7ff6-d30a-45bd-a51e-7046dae8d98a",
   "metadata": {},
   "source": [
    "#### Scalability : \n",
    "APIs can be used to offload certain tasks to third party services, allowing applications to scale more easily by distributing the workload."
   ]
  },
  {
   "cell_type": "markdown",
   "id": "561600f2-b06e-46e2-ac70-96e13a905d53",
   "metadata": {},
   "source": [
    "#### Interoperability : \n",
    "APIs enable different systems, even built using different technologies or languages, to communicate and work together. This is essential for integrating diverse applications and services"
   ]
  },
  {
   "cell_type": "markdown",
   "id": "5c8a30c7-c81a-4cbd-8ba4-fdfa31cdf79e",
   "metadata": {},
   "source": [
    "### Disadvantages : "
   ]
  },
  {
   "cell_type": "markdown",
   "id": "1c52b9c0-e36b-4deb-ab8f-40380861c549",
   "metadata": {},
   "source": [
    "#### Dependency :\n",
    "When an application heavily relies on third party APIs, it becomes dependent on their availability and stability."
   ]
  },
  {
   "cell_type": "markdown",
   "id": "d690d2f0-685a-4401-83fd-ad53a0aec340",
   "metadata": {},
   "source": [
    "#### Limited Control : \n",
    "When using external APIs, developers might have limited control over how the API functions. Chnages made by API provider can affect the application's behaviour."
   ]
  },
  {
   "cell_type": "markdown",
   "id": "5434f21f-b648-4cc4-ae91-ae84bed2c6aa",
   "metadata": {},
   "source": [
    "#### Cost : \n",
    "Some APIs are provided as paid services or charge based on usage. Over time, these costs can add up, impacting the application's budget."
   ]
  },
  {
   "cell_type": "markdown",
   "id": "ec95c3f6-8e82-494b-8063-3b8c74a2f046",
   "metadata": {},
   "source": [
    "#### Data Privacy : \n",
    "Sharing data with external APIs might raise concerns about data privacy and compliance, especially when dealing with sensitive information."
   ]
  },
  {
   "cell_type": "markdown",
   "id": "abc0fc8f-1449-47e2-8c98-6c58e610087a",
   "metadata": {},
   "source": [
    "## Q3. What is a Web API? Differentiate between API and Web API."
   ]
  },
  {
   "cell_type": "markdown",
   "id": "99182f29-0ff1-49cf-b01a-56c0aa78d0c6",
   "metadata": {},
   "source": [
    "A Web API is specific type of API that is accessed over the web using the HTTP protocol. Web APIs are used to expose data and functionality from a web server to other applications.\n",
    "\n",
    "The main difference between API and Web API is the way they are accessed. APIs can be accessed over variety of protocols like HTTP, TCP, UDP, etc. Web APIs are specifically designed to be accessed over the HTTP protocol.\n",
    "\n",
    "An API can be hosted on type of server but the Web API is typically hosted on a web server.\n",
    "\n",
    "An API can return data in variety of formats like JSON, XML or CSV \n",
    "whereas Web API return data in JSON formats."
   ]
  },
  {
   "cell_type": "markdown",
   "id": "f75dc626-6753-4fcd-982a-3d5c05752f40",
   "metadata": {},
   "source": [
    "## Q4. Explain REST and SOAP Architecture. Mention shortcomings of SOAP."
   ]
  },
  {
   "cell_type": "markdown",
   "id": "faee7ba6-b64e-4d38-bd77-ae8492bb9686",
   "metadata": {},
   "source": [
    "### REST Architecture"
   ]
  },
  {
   "cell_type": "markdown",
   "id": "67985371-5af5-4a7d-8cdb-891ba513cb63",
   "metadata": {},
   "source": [
    "REST stands for Representational State Transfer. REST is an architectural style that defines a set of contraints for designing networked applications. It is commonly used in designing Web APIs. REST is based on : \n",
    "\n",
    "+ Cient-Server : The architecture separated the client and server components allowing them to evolve independently\n",
    "\n",
    "+ Stateless : Each cclient request to the server must contain all the information needed to understand and process the request.\n",
    "\n",
    "+ Cacheable : Responses from the server can be marked as cacheable or non-cacheable, improving performance by allowing clients to reuse previously fetched data"
   ]
  },
  {
   "cell_type": "markdown",
   "id": "9ee24446-dd48-4138-ac9c-43496ebf3864",
   "metadata": {},
   "source": [
    "### SOAP Architecture"
   ]
  },
  {
   "cell_type": "markdown",
   "id": "d821c87b-8e7f-4d24-94cd-2d894cc3ad35",
   "metadata": {},
   "source": [
    "SOAP is a protocol for exchanging structured information in the implementation of Web Services. It defines a sert of riles for structuring messages regardless of the underlying  transport protocol. SOAP messages are usually XML based and are used to invoke methods or services across different systems.\n",
    "\n",
    "SOAP Architecture includes : \n",
    "+ Envelope : The root element that encapulates the SOAP messages\n",
    "\n",
    "+ Header : Optional elements containing metadata and additional information about the SOAP message.\n",
    "\n",
    "+ Body : Contains the actual message, including the requested action and data"
   ]
  },
  {
   "cell_type": "markdown",
   "id": "1d7e8605-d26f-4129-a702-d53b9aab8bc4",
   "metadata": {},
   "source": [
    "### Shortcomings of SOAP:\n",
    "\n",
    "+ Complexity : SOAP messages tend to be larger and more complex due to XML structure, which can increase overhead and make debugging more challenging.\n",
    "\n",
    "+ Performance Overhead : SOAP relies on XML parsing, which can be resource-intensive compared to simpler data formats like JSON used in REST.\n",
    "\n",
    "+ Security Concerns : Although SOAP provides security features like WS-Security, its complexity can lead to more potential vulnerabilities if not implemented correctly."
   ]
  },
  {
   "cell_type": "markdown",
   "id": "e433370a-16bf-4422-b547-06832b7388b2",
   "metadata": {},
   "source": [
    "## Q5. Differentiate between REST and SOAP."
   ]
  },
  {
   "cell_type": "markdown",
   "id": "a20f6e82-ad87-4260-a4cf-32546516ae34",
   "metadata": {},
   "source": [
    "* **REST** (Respresentational State Transfer) is architectural style that relies on the principle of web using HTTP as underlying protocol. **SOAP** (Simple Object Access Protocol) is a protocol for exchanging structured information in the form of XML messages.\n",
    "\n",
    "* **REST** commonly uses lightweight data formats such as JSON, XML whereas **SOAP** uses XML exclusively for structuring messages, making messages more verbose and complex compared to JSON.\n",
    "\n",
    "* **REST** emphasizes statelessnessm meaning each request from a client to a server must contain all necessary information. The Server does not store client state. **SOAP** also supports statelessness but the strict message structure can make it more challenging to achieve compared to REST.\n",
    "\n",
    "* **REST** offers more flexibility in terms of data formats which makes it more adaptable to different client needs and platform requirements whereas **SOAP** has more rigid structure which make it less flexible when integrating with different programming languages and platforms\n",
    "\n",
    "* **REST** is considered more scalable due to its stateless nature and simplified data formats.**SOAP** can be less scalable due to its XML-based messages and the additional overhead of parsing and processing."
   ]
  },
  {
   "cell_type": "code",
   "execution_count": null,
   "id": "0ca007c3-0d29-41b3-b9ce-d9a7b9693faa",
   "metadata": {},
   "outputs": [],
   "source": []
  }
 ],
 "metadata": {
  "kernelspec": {
   "display_name": "Python 3 (ipykernel)",
   "language": "python",
   "name": "python3"
  },
  "language_info": {
   "codemirror_mode": {
    "name": "ipython",
    "version": 3
   },
   "file_extension": ".py",
   "mimetype": "text/x-python",
   "name": "python",
   "nbconvert_exporter": "python",
   "pygments_lexer": "ipython3",
   "version": "3.10.8"
  }
 },
 "nbformat": 4,
 "nbformat_minor": 5
}
